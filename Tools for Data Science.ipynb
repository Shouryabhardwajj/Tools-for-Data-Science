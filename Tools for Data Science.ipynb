{
 "cells": [
  {
   "cell_type": "markdown",
   "id": "05e2f30a",
   "metadata": {},
   "source": [
    "# <span style=\"font-family:Cambria\"> <span style=\"color:purple\"> DATA SCIENCE ASSIGNMENT</span>\n"
   ]
  },
  {
   "cell_type": "markdown",
   "id": "634e3ca5",
   "metadata": {},
   "source": [
    "###  Hello,this is Shourya Bhardwaj. I am an aspiring Data Scientist ."
   ]
  },
  {
   "cell_type": "markdown",
   "id": "759503c7",
   "metadata": {},
   "source": [
    "### Exercise 4\n",
    "#### The various data science languages which are currently being used are as follows:\n",
    "1. Python\n",
    "2. R\n",
    "3. SQL \n",
    "4. Pandas \n",
    "5. Matplotib \n",
    "6. Numpy"
   ]
  },
  {
   "cell_type": "markdown",
   "id": "b9d9413b",
   "metadata": {},
   "source": [
    "### Exercise 5\n",
    "#### The various data science libraries are as follows: \n",
    "1. Caret\n",
    "2. Keras \n",
    "3. NumPy\n",
    "4. Pandas \n",
    "5. Pytorch \n",
    "6. Tensorflow\n",
    "7. Scikit learn\n",
    "8. SciPy    "
   ]
  },
  {
   "cell_type": "markdown",
   "id": "ae597638",
   "metadata": {},
   "source": [
    "### Exercise 6\n",
    "| Data Science Tools |\n",
    "| ------------------ |\n",
    "| Microsoft Azure |\n",
    "| My SQL |\n",
    "| Amazon Redshift |\n",
    "| Snowflake |\n",
    "| Google BigQuery |\n",
    "| Jupyter Noteboo|"
   ]
  },
  {
   "cell_type": "markdown",
   "id": "1f52b85a",
   "metadata": {},
   "source": [
    "### Exercise 7"
   ]
  },
  {
   "cell_type": "code",
   "execution_count": 1,
   "id": "2ccc7ddd",
   "metadata": {},
   "outputs": [
    {
     "name": "stdout",
     "output_type": "stream",
     "text": [
      "Please insert the first integer number of the sum > 5\n",
      "5\n",
      "Please insert the second integer number of the sum > 4\n",
      "4\n",
      "The total is 9\n"
     ]
    }
   ],
   "source": [
    "x = int(input(\"Please insert the first integer number of the sum > \")) \n",
    "\n",
    "print(x)\n",
    "\n",
    "y = int(input(\"Please insert the second integer number of the sum > \"))\n",
    "\n",
    "print(y)\n",
    "\n",
    "sum = x + y\n",
    "\n",
    "print(\"The total is \" + str(sum))"
   ]
  },
  {
   "cell_type": "markdown",
   "id": "58867ccd",
   "metadata": {},
   "source": [
    "### Exercise 8"
   ]
  },
  {
   "cell_type": "code",
   "execution_count": 2,
   "id": "24e4f257",
   "metadata": {},
   "outputs": [
    {
     "name": "stdout",
     "output_type": "stream",
     "text": [
      "17\n"
     ]
    }
   ],
   "source": [
    "print((3*4)+5) "
   ]
  },
  {
   "cell_type": "markdown",
   "id": "6aa3c2e4",
   "metadata": {},
   "source": [
    "### Exercise 9"
   ]
  },
  {
   "cell_type": "code",
   "execution_count": 3,
   "id": "6870c900",
   "metadata": {},
   "outputs": [
    {
     "name": "stdout",
     "output_type": "stream",
     "text": [
      "3 hours 20 minutes\n"
     ]
    }
   ],
   "source": [
    "# This will convert 200 minutes to hours by diving by 60\n",
    "\n",
    "print(200//60,\"hours\",(200%60),\"minutes\")"
   ]
  },
  {
   "cell_type": "markdown",
   "id": "031c0a55",
   "metadata": {},
   "source": [
    "## Objectives\n",
    "1. To learn about tools used in data science \n",
    "2. Gain more knowlegde in data science\n",
    "3. Build skills for future\n",
    "4. Preparing for tools like jupyter , apache and many more"
   ]
  },
  {
   "cell_type": "markdown",
   "id": "43b3cd87",
   "metadata": {},
   "source": [
    "### Author\n",
    "### Shourya Bhardwaj"
   ]
  }
 ],
 "metadata": {
  "kernelspec": {
   "display_name": "Python 3 (ipykernel)",
   "language": "python",
   "name": "python3"
  },
  "language_info": {
   "codemirror_mode": {
    "name": "ipython",
    "version": 3
   },
   "file_extension": ".py",
   "mimetype": "text/x-python",
   "name": "python",
   "nbconvert_exporter": "python",
   "pygments_lexer": "ipython3",
   "version": "3.11.4"
  }
 },
 "nbformat": 4,
 "nbformat_minor": 5
}
