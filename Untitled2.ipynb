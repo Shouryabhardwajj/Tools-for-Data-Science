{
  "metadata": {
    "language_info": {
      "name": ""
    },
    "kernelspec": {
      "name": "python",
      "display_name": "Python (Pyodide)",
      "language": "python"
    }
  },
  "nbformat_minor": 4,
  "nbformat": 4,
  "cells": [
    {
      "cell_type": "markdown",
      "source": "# <span style=\"font-family:Cambria\"> <span style=\"color:yellow\"> DATA SCIENCE ASSIGNMENT</span>\n",
      "metadata": {}
    },
    {
      "cell_type": "markdown",
      "source": "###  Hello,this is Shourya Bhardwaj. I am an aspiring Data Scientist .",
      "metadata": {}
    },
    {
      "cell_type": "markdown",
      "source": "### Exercise 4  ",
      "metadata": {}
    },
    {
      "cell_type": "markdown",
      "source": "#### The various data science languages which are currently being used are as follows:\n1. Python\n2. R\n3. SQL \n4. Pandas \n5. Matplotib \n6. Numpy",
      "metadata": {}
    },
    {
      "cell_type": "markdown",
      "source": "### Exercise 5",
      "metadata": {}
    },
    {
      "cell_type": "markdown",
      "source": "#### The various data science libraries are as follows: \n1. Caret\n2. Keras \n3. NumPy\n4. Pandas \n5. Pytorch \n6. Tensorflow\n7. Scikit learn\n8. SciPy    ",
      "metadata": {}
    },
    {
      "cell_type": "markdown",
      "source": "### Exercise 6",
      "metadata": {}
    },
    {
      "cell_type": "markdown",
      "source": "| Data Science Tools |\n| ------------------ |\n| Microsoft Azure |\n| My SQL |\n| Amazon Redshift |\n| Snowflake |\n| Google BigQuery |\n| Jupyter Noteboo|",
      "metadata": {}
    },
    {
      "cell_type": "markdown",
      "source": "### Exercise 7",
      "metadata": {}
    },
    {
      "cell_type": "markdown",
      "source": "x = int(input(\"Please insert the first integer number of the sum > \")) \n\nprint(x)\n\ny = int(input(\"Please insert the second integer number of the sum > \"))\n\nprint(y)\n\nsum = x + y\n\nprint(\"The total is \" + str(sum))",
      "metadata": {}
    },
    {
      "cell_type": "markdown",
      "source": "### Exercise 8",
      "metadata": {}
    },
    {
      "cell_type": "code",
      "source": "print((3*4)+5) ",
      "metadata": {
        "trusted": true
      },
      "execution_count": null,
      "outputs": []
    },
    {
      "cell_type": "markdown",
      "source": "17",
      "metadata": {}
    },
    {
      "cell_type": "markdown",
      "source": "### Exercise 9",
      "metadata": {}
    },
    {
      "cell_type": "code",
      "source": "# This will convert 200 minutes to hours by diving by 60\n\nprint(200//60,\"hours\",(200%60),\"minutes\")",
      "metadata": {
        "trusted": true
      },
      "execution_count": null,
      "outputs": []
    },
    {
      "cell_type": "markdown",
      "source": "3 hours 20 minutes",
      "metadata": {}
    },
    {
      "cell_type": "markdown",
      "source": "## Objectives\n1. To learn about tools used in data science \n2. Gain more knowlegde in data science\n3. Build skills for future\n4. Preparing for tools like jupyter , apache and many more",
      "metadata": {}
    },
    {
      "cell_type": "markdown",
      "source": "### Author\n### Shourya Bhardwaj",
      "metadata": {}
    }
  ]
}